{
 "cells": [
  {
   "cell_type": "code",
   "execution_count": 6,
   "id": "2c6a4b52-1b80-47f0-99be-bf71669f8bd0",
   "metadata": {},
   "outputs": [],
   "source": [
    "#Gernerate report sent to deployment state\n",
    "import pickle"
   ]
  },
  {
   "cell_type": "code",
   "execution_count": 7,
   "id": "fa4c520f-b66e-463f-832f-41683eaa68b1",
   "metadata": {},
   "outputs": [
    {
     "name": "stderr",
     "output_type": "stream",
     "text": [
      "C:\\Users\\krsut\\anaconda3\\Lib\\site-packages\\sklearn\\utils\\validation.py:2739: UserWarning: X does not have valid feature names, but LinearRegression was fitted with feature names\n",
      "  warnings.warn(\n"
     ]
    }
   ],
   "source": [
    "#Ensure our result \n",
    "loaded_model=pickle.load(open(\"finalized_model_liner_sav\",'rb'))\n",
    "result=loaded_model.predict([[0]]) "
   ]
  },
  {
   "cell_type": "code",
   "execution_count": 8,
   "id": "537a4e97-804e-4901-a4f0-a66bb6342819",
   "metadata": {},
   "outputs": [
    {
     "data": {
      "text/plain": [
       "array([[26777.3913412]])"
      ]
     },
     "execution_count": 8,
     "metadata": {},
     "output_type": "execute_result"
    }
   ],
   "source": [
    "result"
   ]
  },
  {
   "cell_type": "code",
   "execution_count": null,
   "id": "1620416a-e8d7-47a3-a30b-5073fb6b7590",
   "metadata": {},
   "outputs": [],
   "source": []
  }
 ],
 "metadata": {
  "kernelspec": {
   "display_name": "Python 3 (ipykernel)",
   "language": "python",
   "name": "python3"
  },
  "language_info": {
   "codemirror_mode": {
    "name": "ipython",
    "version": 3
   },
   "file_extension": ".py",
   "mimetype": "text/x-python",
   "name": "python",
   "nbconvert_exporter": "python",
   "pygments_lexer": "ipython3",
   "version": "3.13.5"
  }
 },
 "nbformat": 4,
 "nbformat_minor": 5
}
