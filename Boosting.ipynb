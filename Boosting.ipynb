{
 "cells": [
  {
   "cell_type": "code",
   "execution_count": 1,
   "id": "61afe18f-f000-4f98-885a-036b54418724",
   "metadata": {},
   "outputs": [
    {
     "ename": "ModuleNotFoundError",
     "evalue": "No module named 'xgboost'",
     "output_type": "error",
     "traceback": [
      "\u001b[1;31m---------------------------------------------------------------------------\u001b[0m",
      "\u001b[1;31mModuleNotFoundError\u001b[0m                       Traceback (most recent call last)",
      "Cell \u001b[1;32mIn[1], line 1\u001b[0m\n\u001b[1;32m----> 1\u001b[0m \u001b[38;5;28;01mimport\u001b[39;00m\u001b[38;5;250m \u001b[39m\u001b[38;5;21;01mxgboost\u001b[39;00m\n",
      "\u001b[1;31mModuleNotFoundError\u001b[0m: No module named 'xgboost'"
     ]
    }
   ],
   "source": [
    "import xgboost"
   ]
  },
  {
   "cell_type": "code",
   "execution_count": 2,
   "id": "2b65bc9c-2795-4583-bc84-44b7dacfac07",
   "metadata": {},
   "outputs": [
    {
     "name": "stdout",
     "output_type": "stream",
     "text": [
      "Collecting xgboost\n",
      "  Downloading xgboost-3.0.5-py3-none-win_amd64.whl.metadata (2.1 kB)\n",
      "Requirement already satisfied: numpy in c:\\users\\krsut\\anaconda3\\lib\\site-packages (from xgboost) (2.1.3)\n",
      "Requirement already satisfied: scipy in c:\\users\\krsut\\anaconda3\\lib\\site-packages (from xgboost) (1.15.3)\n",
      "Downloading xgboost-3.0.5-py3-none-win_amd64.whl (56.8 MB)\n",
      "   ---------------------------------------- 0.0/56.8 MB ? eta -:--:--\n",
      "   -- ------------------------------------- 3.9/56.8 MB 17.8 MB/s eta 0:00:03\n",
      "   ------- -------------------------------- 10.5/56.8 MB 21.3 MB/s eta 0:00:03\n",
      "   ----------- ---------------------------- 16.3/56.8 MB 22.5 MB/s eta 0:00:02\n",
      "   --------------- ------------------------ 21.8/56.8 MB 23.1 MB/s eta 0:00:02\n",
      "   ------------------- -------------------- 27.0/56.8 MB 23.3 MB/s eta 0:00:02\n",
      "   ---------------------- ----------------- 32.5/56.8 MB 23.5 MB/s eta 0:00:02\n",
      "   -------------------------- ------------- 37.7/56.8 MB 23.5 MB/s eta 0:00:01\n",
      "   ------------------------------ --------- 43.8/56.8 MB 23.5 MB/s eta 0:00:01\n",
      "   ---------------------------------- ----- 49.5/56.8 MB 23.6 MB/s eta 0:00:01\n",
      "   -------------------------------------- - 54.8/56.8 MB 23.6 MB/s eta 0:00:01\n",
      "   ---------------------------------------  56.6/56.8 MB 23.7 MB/s eta 0:00:01\n",
      "   ---------------------------------------  56.6/56.8 MB 23.7 MB/s eta 0:00:01\n",
      "   ---------------------------------------- 56.8/56.8 MB 18.0 MB/s eta 0:00:00\n",
      "Installing collected packages: xgboost\n",
      "Successfully installed xgboost-3.0.5\n"
     ]
    }
   ],
   "source": [
    "!pip install xgboost"
   ]
  },
  {
   "cell_type": "code",
   "execution_count": 3,
   "id": "0667fd9f-5679-4c03-9330-1c65be9c2c35",
   "metadata": {},
   "outputs": [],
   "source": [
    "import xgboost"
   ]
  },
  {
   "cell_type": "code",
   "execution_count": null,
   "id": "a37a0af4-f4ba-4949-afef-40d57296b7d1",
   "metadata": {},
   "outputs": [],
   "source": []
  }
 ],
 "metadata": {
  "kernelspec": {
   "display_name": "Python 3 (ipykernel)",
   "language": "python",
   "name": "python3"
  },
  "language_info": {
   "codemirror_mode": {
    "name": "ipython",
    "version": 3
   },
   "file_extension": ".py",
   "mimetype": "text/x-python",
   "name": "python",
   "nbconvert_exporter": "python",
   "pygments_lexer": "ipython3",
   "version": "3.13.5"
  }
 },
 "nbformat": 4,
 "nbformat_minor": 5
}
